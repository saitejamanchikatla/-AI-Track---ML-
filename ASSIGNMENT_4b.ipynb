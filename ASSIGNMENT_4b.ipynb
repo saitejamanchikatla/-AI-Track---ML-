{
 "cells": [
  {
   "cell_type": "markdown",
   "metadata": {},
   "source": [
    "Estimate the bicarbonates of well water based on its pH value using simple regression model. Consider SGD optimizer. Dataset: Union Carbide Technical Report"
   ]
  },
  {
   "cell_type": "markdown",
   "metadata": {},
   "source": [
    " Write the python code to build simple linear regression model using SGD optimizer\n",
    "\n",
    " Do the data normalization\n",
    "\n",
    "Split the data for train and test (90:10)\n",
    "\n",
    " Train the simple linear regression model using SGD with\n",
    "\n",
    "training data\n",
    "\n",
    " Compute MSE, RMSE and MAE with training data Compute MSE, RMSE and MAE with testing data"
   ]
  },
  {
   "cell_type": "code",
   "execution_count": 22,
   "metadata": {},
   "outputs": [],
   "source": [
    "import pandas as pd\n",
    "data = pd.read_csv(\"C:\\\\Users\\\\saiteja\\\\Downloads\\\\ground.csv\")"
   ]
  },
  {
   "cell_type": "code",
   "execution_count": 28,
   "metadata": {},
   "outputs": [
    {
     "data": {
      "text/html": [
       "<div>\n",
       "<style scoped>\n",
       "    .dataframe tbody tr th:only-of-type {\n",
       "        vertical-align: middle;\n",
       "    }\n",
       "\n",
       "    .dataframe tbody tr th {\n",
       "        vertical-align: top;\n",
       "    }\n",
       "\n",
       "    .dataframe thead th {\n",
       "        text-align: right;\n",
       "    }\n",
       "</style>\n",
       "<table border=\"1\" class=\"dataframe\">\n",
       "  <thead>\n",
       "    <tr style=\"text-align: right;\">\n",
       "      <th></th>\n",
       "      <th>X</th>\n",
       "      <th>Y</th>\n",
       "    </tr>\n",
       "  </thead>\n",
       "  <tbody>\n",
       "    <tr>\n",
       "      <th>0</th>\n",
       "      <td>7.6</td>\n",
       "      <td>157</td>\n",
       "    </tr>\n",
       "    <tr>\n",
       "      <th>1</th>\n",
       "      <td>7.1</td>\n",
       "      <td>174</td>\n",
       "    </tr>\n",
       "    <tr>\n",
       "      <th>2</th>\n",
       "      <td>8.2</td>\n",
       "      <td>175</td>\n",
       "    </tr>\n",
       "    <tr>\n",
       "      <th>3</th>\n",
       "      <td>7.5</td>\n",
       "      <td>188</td>\n",
       "    </tr>\n",
       "    <tr>\n",
       "      <th>4</th>\n",
       "      <td>7.4</td>\n",
       "      <td>171</td>\n",
       "    </tr>\n",
       "    <tr>\n",
       "      <th>5</th>\n",
       "      <td>7.8</td>\n",
       "      <td>143</td>\n",
       "    </tr>\n",
       "    <tr>\n",
       "      <th>6</th>\n",
       "      <td>7.3</td>\n",
       "      <td>217</td>\n",
       "    </tr>\n",
       "    <tr>\n",
       "      <th>7</th>\n",
       "      <td>8.0</td>\n",
       "      <td>190</td>\n",
       "    </tr>\n",
       "    <tr>\n",
       "      <th>8</th>\n",
       "      <td>7.1</td>\n",
       "      <td>142</td>\n",
       "    </tr>\n",
       "    <tr>\n",
       "      <th>9</th>\n",
       "      <td>7.5</td>\n",
       "      <td>190</td>\n",
       "    </tr>\n",
       "    <tr>\n",
       "      <th>10</th>\n",
       "      <td>8.1</td>\n",
       "      <td>215</td>\n",
       "    </tr>\n",
       "    <tr>\n",
       "      <th>11</th>\n",
       "      <td>7.0</td>\n",
       "      <td>199</td>\n",
       "    </tr>\n",
       "    <tr>\n",
       "      <th>12</th>\n",
       "      <td>7.3</td>\n",
       "      <td>262</td>\n",
       "    </tr>\n",
       "    <tr>\n",
       "      <th>13</th>\n",
       "      <td>7.8</td>\n",
       "      <td>105</td>\n",
       "    </tr>\n",
       "    <tr>\n",
       "      <th>14</th>\n",
       "      <td>7.3</td>\n",
       "      <td>121</td>\n",
       "    </tr>\n",
       "    <tr>\n",
       "      <th>15</th>\n",
       "      <td>8.0</td>\n",
       "      <td>81</td>\n",
       "    </tr>\n",
       "    <tr>\n",
       "      <th>16</th>\n",
       "      <td>8.5</td>\n",
       "      <td>82</td>\n",
       "    </tr>\n",
       "    <tr>\n",
       "      <th>17</th>\n",
       "      <td>7.1</td>\n",
       "      <td>210</td>\n",
       "    </tr>\n",
       "    <tr>\n",
       "      <th>18</th>\n",
       "      <td>8.2</td>\n",
       "      <td>202</td>\n",
       "    </tr>\n",
       "    <tr>\n",
       "      <th>19</th>\n",
       "      <td>7.9</td>\n",
       "      <td>155</td>\n",
       "    </tr>\n",
       "    <tr>\n",
       "      <th>20</th>\n",
       "      <td>7.6</td>\n",
       "      <td>157</td>\n",
       "    </tr>\n",
       "    <tr>\n",
       "      <th>21</th>\n",
       "      <td>8.8</td>\n",
       "      <td>147</td>\n",
       "    </tr>\n",
       "    <tr>\n",
       "      <th>22</th>\n",
       "      <td>7.2</td>\n",
       "      <td>133</td>\n",
       "    </tr>\n",
       "    <tr>\n",
       "      <th>23</th>\n",
       "      <td>7.9</td>\n",
       "      <td>53</td>\n",
       "    </tr>\n",
       "    <tr>\n",
       "      <th>24</th>\n",
       "      <td>8.1</td>\n",
       "      <td>56</td>\n",
       "    </tr>\n",
       "    <tr>\n",
       "      <th>25</th>\n",
       "      <td>7.7</td>\n",
       "      <td>113</td>\n",
       "    </tr>\n",
       "    <tr>\n",
       "      <th>26</th>\n",
       "      <td>8.4</td>\n",
       "      <td>35</td>\n",
       "    </tr>\n",
       "    <tr>\n",
       "      <th>27</th>\n",
       "      <td>7.4</td>\n",
       "      <td>125</td>\n",
       "    </tr>\n",
       "    <tr>\n",
       "      <th>28</th>\n",
       "      <td>7.3</td>\n",
       "      <td>76</td>\n",
       "    </tr>\n",
       "    <tr>\n",
       "      <th>29</th>\n",
       "      <td>8.5</td>\n",
       "      <td>48</td>\n",
       "    </tr>\n",
       "    <tr>\n",
       "      <th>30</th>\n",
       "      <td>7.8</td>\n",
       "      <td>147</td>\n",
       "    </tr>\n",
       "    <tr>\n",
       "      <th>31</th>\n",
       "      <td>6.7</td>\n",
       "      <td>117</td>\n",
       "    </tr>\n",
       "    <tr>\n",
       "      <th>32</th>\n",
       "      <td>7.1</td>\n",
       "      <td>182</td>\n",
       "    </tr>\n",
       "    <tr>\n",
       "      <th>33</th>\n",
       "      <td>7.3</td>\n",
       "      <td>87</td>\n",
       "    </tr>\n",
       "  </tbody>\n",
       "</table>\n",
       "</div>"
      ],
      "text/plain": [
       "      X    Y\n",
       "0   7.6  157\n",
       "1   7.1  174\n",
       "2   8.2  175\n",
       "3   7.5  188\n",
       "4   7.4  171\n",
       "5   7.8  143\n",
       "6   7.3  217\n",
       "7   8.0  190\n",
       "8   7.1  142\n",
       "9   7.5  190\n",
       "10  8.1  215\n",
       "11  7.0  199\n",
       "12  7.3  262\n",
       "13  7.8  105\n",
       "14  7.3  121\n",
       "15  8.0   81\n",
       "16  8.5   82\n",
       "17  7.1  210\n",
       "18  8.2  202\n",
       "19  7.9  155\n",
       "20  7.6  157\n",
       "21  8.8  147\n",
       "22  7.2  133\n",
       "23  7.9   53\n",
       "24  8.1   56\n",
       "25  7.7  113\n",
       "26  8.4   35\n",
       "27  7.4  125\n",
       "28  7.3   76\n",
       "29  8.5   48\n",
       "30  7.8  147\n",
       "31  6.7  117\n",
       "32  7.1  182\n",
       "33  7.3   87"
      ]
     },
     "execution_count": 28,
     "metadata": {},
     "output_type": "execute_result"
    }
   ],
   "source": [
    "data.head(34)"
   ]
  },
  {
   "cell_type": "code",
   "execution_count": 32,
   "metadata": {},
   "outputs": [
    {
     "data": {
      "text/plain": [
       "X    0\n",
       "Y    0\n",
       "dtype: int64"
      ]
     },
     "execution_count": 32,
     "metadata": {},
     "output_type": "execute_result"
    }
   ],
   "source": [
    "data.isnull().sum()"
   ]
  },
  {
   "cell_type": "code",
   "execution_count": 33,
   "metadata": {},
   "outputs": [],
   "source": [
    "# Import libraries \n",
    "import matplotlib.pyplot as plt \n",
    "import numpy as np "
   ]
  },
  {
   "cell_type": "code",
   "execution_count": 38,
   "metadata": {},
   "outputs": [
    {
     "data": {
      "text/plain": [
       "{'whiskers': [<matplotlib.lines.Line2D at 0x297e659ea48>,\n",
       "  <matplotlib.lines.Line2D at 0x297e65e4d48>,\n",
       "  <matplotlib.lines.Line2D at 0x297e65efec8>,\n",
       "  <matplotlib.lines.Line2D at 0x297e65eff88>,\n",
       "  <matplotlib.lines.Line2D at 0x297e6603fc8>,\n",
       "  <matplotlib.lines.Line2D at 0x297e6603f48>,\n",
       "  <matplotlib.lines.Line2D at 0x297e6617448>,\n",
       "  <matplotlib.lines.Line2D at 0x297e660ba48>,\n",
       "  <matplotlib.lines.Line2D at 0x297e6628ec8>,\n",
       "  <matplotlib.lines.Line2D at 0x297e6603b08>,\n",
       "  <matplotlib.lines.Line2D at 0x297e6636c48>,\n",
       "  <matplotlib.lines.Line2D at 0x297e6636748>,\n",
       "  <matplotlib.lines.Line2D at 0x297e664d508>,\n",
       "  <matplotlib.lines.Line2D at 0x297e6643cc8>,\n",
       "  <matplotlib.lines.Line2D at 0x297e665ba48>,\n",
       "  <matplotlib.lines.Line2D at 0x297e6653a88>,\n",
       "  <matplotlib.lines.Line2D at 0x297e6628e08>,\n",
       "  <matplotlib.lines.Line2D at 0x297e666a788>,\n",
       "  <matplotlib.lines.Line2D at 0x297e6681448>,\n",
       "  <matplotlib.lines.Line2D at 0x297e667bc48>,\n",
       "  <matplotlib.lines.Line2D at 0x297e6691948>,\n",
       "  <matplotlib.lines.Line2D at 0x297e6689988>,\n",
       "  <matplotlib.lines.Line2D at 0x297e66a52c8>,\n",
       "  <matplotlib.lines.Line2D at 0x297e66a5b88>,\n",
       "  <matplotlib.lines.Line2D at 0x297e66b7808>,\n",
       "  <matplotlib.lines.Line2D at 0x297e66b1bc8>,\n",
       "  <matplotlib.lines.Line2D at 0x297e66c7e88>,\n",
       "  <matplotlib.lines.Line2D at 0x297e66c7148>,\n",
       "  <matplotlib.lines.Line2D at 0x297e66df2c8>,\n",
       "  <matplotlib.lines.Line2D at 0x297e66d9688>,\n",
       "  <matplotlib.lines.Line2D at 0x297e66ef808>,\n",
       "  <matplotlib.lines.Line2D at 0x297e66e8bc8>,\n",
       "  <matplotlib.lines.Line2D at 0x297e66ffe88>,\n",
       "  <matplotlib.lines.Line2D at 0x297e66ff148>,\n",
       "  <matplotlib.lines.Line2D at 0x297e67142c8>,\n",
       "  <matplotlib.lines.Line2D at 0x297e6711688>,\n",
       "  <matplotlib.lines.Line2D at 0x297e6726808>,\n",
       "  <matplotlib.lines.Line2D at 0x297e6721bc8>,\n",
       "  <matplotlib.lines.Line2D at 0x297e6737e88>,\n",
       "  <matplotlib.lines.Line2D at 0x297e6737148>,\n",
       "  <matplotlib.lines.Line2D at 0x297e674e2c8>,\n",
       "  <matplotlib.lines.Line2D at 0x297e6748688>,\n",
       "  <matplotlib.lines.Line2D at 0x297e675e808>,\n",
       "  <matplotlib.lines.Line2D at 0x297e6758bc8>,\n",
       "  <matplotlib.lines.Line2D at 0x297e676fe88>,\n",
       "  <matplotlib.lines.Line2D at 0x297e676f148>,\n",
       "  <matplotlib.lines.Line2D at 0x297e67862c8>,\n",
       "  <matplotlib.lines.Line2D at 0x297e6780688>,\n",
       "  <matplotlib.lines.Line2D at 0x297e6798808>,\n",
       "  <matplotlib.lines.Line2D at 0x297e6791bc8>,\n",
       "  <matplotlib.lines.Line2D at 0x297e67a6e88>,\n",
       "  <matplotlib.lines.Line2D at 0x297e67a6148>,\n",
       "  <matplotlib.lines.Line2D at 0x297e67bd2c8>,\n",
       "  <matplotlib.lines.Line2D at 0x297e67b8688>,\n",
       "  <matplotlib.lines.Line2D at 0x297e67cf808>,\n",
       "  <matplotlib.lines.Line2D at 0x297e67c9bc8>,\n",
       "  <matplotlib.lines.Line2D at 0x297e67e0e88>,\n",
       "  <matplotlib.lines.Line2D at 0x297e67e0148>,\n",
       "  <matplotlib.lines.Line2D at 0x297e67f62c8>,\n",
       "  <matplotlib.lines.Line2D at 0x297e67ee688>,\n",
       "  <matplotlib.lines.Line2D at 0x297e6806808>,\n",
       "  <matplotlib.lines.Line2D at 0x297e6801bc8>,\n",
       "  <matplotlib.lines.Line2D at 0x297e6817e88>,\n",
       "  <matplotlib.lines.Line2D at 0x297e681c588>,\n",
       "  <matplotlib.lines.Line2D at 0x297e682d2c8>,\n",
       "  <matplotlib.lines.Line2D at 0x297e6828688>,\n",
       "  <matplotlib.lines.Line2D at 0x297e683e808>,\n",
       "  <matplotlib.lines.Line2D at 0x297e6839bc8>],\n",
       " 'caps': [<matplotlib.lines.Line2D at 0x297e65e4dc8>,\n",
       "  <matplotlib.lines.Line2D at 0x297e65e8cc8>,\n",
       "  <matplotlib.lines.Line2D at 0x297e65f7f48>,\n",
       "  <matplotlib.lines.Line2D at 0x297e65f7c48>,\n",
       "  <matplotlib.lines.Line2D at 0x297e660bc88>,\n",
       "  <matplotlib.lines.Line2D at 0x297e660bc08>,\n",
       "  <matplotlib.lines.Line2D at 0x297e6617b88>,\n",
       "  <matplotlib.lines.Line2D at 0x297e66179c8>,\n",
       "  <matplotlib.lines.Line2D at 0x297e6628f48>,\n",
       "  <matplotlib.lines.Line2D at 0x297e660bd88>,\n",
       "  <matplotlib.lines.Line2D at 0x297e663c548>,\n",
       "  <matplotlib.lines.Line2D at 0x297e663c208>,\n",
       "  <matplotlib.lines.Line2D at 0x297e664dc48>,\n",
       "  <matplotlib.lines.Line2D at 0x297e664da88>,\n",
       "  <matplotlib.lines.Line2D at 0x297e665bfc8>,\n",
       "  <matplotlib.lines.Line2D at 0x297e665bc88>,\n",
       "  <matplotlib.lines.Line2D at 0x297e6671508>,\n",
       "  <matplotlib.lines.Line2D at 0x297e66711c8>,\n",
       "  <matplotlib.lines.Line2D at 0x297e6681988>,\n",
       "  <matplotlib.lines.Line2D at 0x297e6681648>,\n",
       "  <matplotlib.lines.Line2D at 0x297e6691ec8>,\n",
       "  <matplotlib.lines.Line2D at 0x297e6691b88>,\n",
       "  <matplotlib.lines.Line2D at 0x297e6697ec8>,\n",
       "  <matplotlib.lines.Line2D at 0x297e66ac288>,\n",
       "  <matplotlib.lines.Line2D at 0x297e66b7ac8>,\n",
       "  <matplotlib.lines.Line2D at 0x297e66be2c8>,\n",
       "  <matplotlib.lines.Line2D at 0x297e66cd588>,\n",
       "  <matplotlib.lines.Line2D at 0x297e66cdf88>,\n",
       "  <matplotlib.lines.Line2D at 0x297e66dfd48>,\n",
       "  <matplotlib.lines.Line2D at 0x297e66df588>,\n",
       "  <matplotlib.lines.Line2D at 0x297e66f3048>,\n",
       "  <matplotlib.lines.Line2D at 0x297e66efac8>,\n",
       "  <matplotlib.lines.Line2D at 0x297e6705588>,\n",
       "  <matplotlib.lines.Line2D at 0x297e6705f88>,\n",
       "  <matplotlib.lines.Line2D at 0x297e6714d48>,\n",
       "  <matplotlib.lines.Line2D at 0x297e6714588>,\n",
       "  <matplotlib.lines.Line2D at 0x297e672c048>,\n",
       "  <matplotlib.lines.Line2D at 0x297e6726ac8>,\n",
       "  <matplotlib.lines.Line2D at 0x297e673d588>,\n",
       "  <matplotlib.lines.Line2D at 0x297e673df88>,\n",
       "  <matplotlib.lines.Line2D at 0x297e674ed48>,\n",
       "  <matplotlib.lines.Line2D at 0x297e674e588>,\n",
       "  <matplotlib.lines.Line2D at 0x297e6764048>,\n",
       "  <matplotlib.lines.Line2D at 0x297e675eac8>,\n",
       "  <matplotlib.lines.Line2D at 0x297e6775588>,\n",
       "  <matplotlib.lines.Line2D at 0x297e6775f88>,\n",
       "  <matplotlib.lines.Line2D at 0x297e6786d48>,\n",
       "  <matplotlib.lines.Line2D at 0x297e6786588>,\n",
       "  <matplotlib.lines.Line2D at 0x297e679e048>,\n",
       "  <matplotlib.lines.Line2D at 0x297e6798ac8>,\n",
       "  <matplotlib.lines.Line2D at 0x297e67ae588>,\n",
       "  <matplotlib.lines.Line2D at 0x297e67aef88>,\n",
       "  <matplotlib.lines.Line2D at 0x297e67bdd48>,\n",
       "  <matplotlib.lines.Line2D at 0x297e67bd588>,\n",
       "  <matplotlib.lines.Line2D at 0x297e67d4048>,\n",
       "  <matplotlib.lines.Line2D at 0x297e67cfac8>,\n",
       "  <matplotlib.lines.Line2D at 0x297e67e4588>,\n",
       "  <matplotlib.lines.Line2D at 0x297e67e4f88>,\n",
       "  <matplotlib.lines.Line2D at 0x297e67f6d48>,\n",
       "  <matplotlib.lines.Line2D at 0x297e67f6588>,\n",
       "  <matplotlib.lines.Line2D at 0x297e680c048>,\n",
       "  <matplotlib.lines.Line2D at 0x297e6806ac8>,\n",
       "  <matplotlib.lines.Line2D at 0x297e6811708>,\n",
       "  <matplotlib.lines.Line2D at 0x297e681cf88>,\n",
       "  <matplotlib.lines.Line2D at 0x297e682dd48>,\n",
       "  <matplotlib.lines.Line2D at 0x297e682d588>,\n",
       "  <matplotlib.lines.Line2D at 0x297e6844048>,\n",
       "  <matplotlib.lines.Line2D at 0x297e683eac8>],\n",
       " 'boxes': [<matplotlib.lines.Line2D at 0x297e65e45c8>,\n",
       "  <matplotlib.lines.Line2D at 0x297e658d788>,\n",
       "  <matplotlib.lines.Line2D at 0x297e65ef888>,\n",
       "  <matplotlib.lines.Line2D at 0x297e6603408>,\n",
       "  <matplotlib.lines.Line2D at 0x297e6628448>,\n",
       "  <matplotlib.lines.Line2D at 0x297e6636a08>,\n",
       "  <matplotlib.lines.Line2D at 0x297e6636ac8>,\n",
       "  <matplotlib.lines.Line2D at 0x297e664d088>,\n",
       "  <matplotlib.lines.Line2D at 0x297e6611fc8>,\n",
       "  <matplotlib.lines.Line2D at 0x297e6628508>,\n",
       "  <matplotlib.lines.Line2D at 0x297e667bfc8>,\n",
       "  <matplotlib.lines.Line2D at 0x297e66914c8>,\n",
       "  <matplotlib.lines.Line2D at 0x297e669fc08>,\n",
       "  <matplotlib.lines.Line2D at 0x297e66b7188>,\n",
       "  <matplotlib.lines.Line2D at 0x297e66c76c8>,\n",
       "  <matplotlib.lines.Line2D at 0x297e66d9c08>,\n",
       "  <matplotlib.lines.Line2D at 0x297e66ef188>,\n",
       "  <matplotlib.lines.Line2D at 0x297e66ff6c8>,\n",
       "  <matplotlib.lines.Line2D at 0x297e6711c08>,\n",
       "  <matplotlib.lines.Line2D at 0x297e6726188>,\n",
       "  <matplotlib.lines.Line2D at 0x297e67376c8>,\n",
       "  <matplotlib.lines.Line2D at 0x297e6748c08>,\n",
       "  <matplotlib.lines.Line2D at 0x297e675e188>,\n",
       "  <matplotlib.lines.Line2D at 0x297e676f6c8>,\n",
       "  <matplotlib.lines.Line2D at 0x297e6780c08>,\n",
       "  <matplotlib.lines.Line2D at 0x297e6798188>,\n",
       "  <matplotlib.lines.Line2D at 0x297e67a66c8>,\n",
       "  <matplotlib.lines.Line2D at 0x297e67b8c08>,\n",
       "  <matplotlib.lines.Line2D at 0x297e67cf188>,\n",
       "  <matplotlib.lines.Line2D at 0x297e67e06c8>,\n",
       "  <matplotlib.lines.Line2D at 0x297e67eec08>,\n",
       "  <matplotlib.lines.Line2D at 0x297e6806188>,\n",
       "  <matplotlib.lines.Line2D at 0x297e68176c8>,\n",
       "  <matplotlib.lines.Line2D at 0x297e6828c08>],\n",
       " 'medians': [<matplotlib.lines.Line2D at 0x297e65e8dc8>,\n",
       "  <matplotlib.lines.Line2D at 0x297e65fed08>,\n",
       "  <matplotlib.lines.Line2D at 0x297e660be48>,\n",
       "  <matplotlib.lines.Line2D at 0x297e6621488>,\n",
       "  <matplotlib.lines.Line2D at 0x297e662f508>,\n",
       "  <matplotlib.lines.Line2D at 0x297e663ca88>,\n",
       "  <matplotlib.lines.Line2D at 0x297e6653548>,\n",
       "  <matplotlib.lines.Line2D at 0x297e6663548>,\n",
       "  <matplotlib.lines.Line2D at 0x297e6671a08>,\n",
       "  <matplotlib.lines.Line2D at 0x297e6681ec8>,\n",
       "  <matplotlib.lines.Line2D at 0x297e6697448>,\n",
       "  <matplotlib.lines.Line2D at 0x297e66acc88>,\n",
       "  <matplotlib.lines.Line2D at 0x297e66bef48>,\n",
       "  <matplotlib.lines.Line2D at 0x297e66cdd08>,\n",
       "  <matplotlib.lines.Line2D at 0x297e66e3c88>,\n",
       "  <matplotlib.lines.Line2D at 0x297e66f37c8>,\n",
       "  <matplotlib.lines.Line2D at 0x297e6705d08>,\n",
       "  <matplotlib.lines.Line2D at 0x297e6719c88>,\n",
       "  <matplotlib.lines.Line2D at 0x297e672c7c8>,\n",
       "  <matplotlib.lines.Line2D at 0x297e673dd08>,\n",
       "  <matplotlib.lines.Line2D at 0x297e6754c88>,\n",
       "  <matplotlib.lines.Line2D at 0x297e67647c8>,\n",
       "  <matplotlib.lines.Line2D at 0x297e6775d08>,\n",
       "  <matplotlib.lines.Line2D at 0x297e678ac88>,\n",
       "  <matplotlib.lines.Line2D at 0x297e679e7c8>,\n",
       "  <matplotlib.lines.Line2D at 0x297e67aed08>,\n",
       "  <matplotlib.lines.Line2D at 0x297e67c4c88>,\n",
       "  <matplotlib.lines.Line2D at 0x297e67d47c8>,\n",
       "  <matplotlib.lines.Line2D at 0x297e67e4d08>,\n",
       "  <matplotlib.lines.Line2D at 0x297e67fbc88>,\n",
       "  <matplotlib.lines.Line2D at 0x297e680c7c8>,\n",
       "  <matplotlib.lines.Line2D at 0x297e681c808>,\n",
       "  <matplotlib.lines.Line2D at 0x297e6832c88>,\n",
       "  <matplotlib.lines.Line2D at 0x297e68447c8>],\n",
       " 'fliers': [<matplotlib.lines.Line2D at 0x297e65e8e48>,\n",
       "  <matplotlib.lines.Line2D at 0x297e65fee08>,\n",
       "  <matplotlib.lines.Line2D at 0x297e6611f08>,\n",
       "  <matplotlib.lines.Line2D at 0x297e6621188>,\n",
       "  <matplotlib.lines.Line2D at 0x297e6636988>,\n",
       "  <matplotlib.lines.Line2D at 0x297e6643048>,\n",
       "  <matplotlib.lines.Line2D at 0x297e6653248>,\n",
       "  <matplotlib.lines.Line2D at 0x297e6663a88>,\n",
       "  <matplotlib.lines.Line2D at 0x297e662fa08>,\n",
       "  <matplotlib.lines.Line2D at 0x297e6689448>,\n",
       "  <matplotlib.lines.Line2D at 0x297e6697988>,\n",
       "  <matplotlib.lines.Line2D at 0x297e66aca08>,\n",
       "  <matplotlib.lines.Line2D at 0x297e66bea48>,\n",
       "  <matplotlib.lines.Line2D at 0x297e66d3ec8>,\n",
       "  <matplotlib.lines.Line2D at 0x297e66e3a08>,\n",
       "  <matplotlib.lines.Line2D at 0x297e66f3f48>,\n",
       "  <matplotlib.lines.Line2D at 0x297e670bec8>,\n",
       "  <matplotlib.lines.Line2D at 0x297e6719a08>,\n",
       "  <matplotlib.lines.Line2D at 0x297e672cf48>,\n",
       "  <matplotlib.lines.Line2D at 0x297e6743ec8>,\n",
       "  <matplotlib.lines.Line2D at 0x297e6754a08>,\n",
       "  <matplotlib.lines.Line2D at 0x297e6764f48>,\n",
       "  <matplotlib.lines.Line2D at 0x297e6779ec8>,\n",
       "  <matplotlib.lines.Line2D at 0x297e678aa08>,\n",
       "  <matplotlib.lines.Line2D at 0x297e679ef48>,\n",
       "  <matplotlib.lines.Line2D at 0x297e67b3ec8>,\n",
       "  <matplotlib.lines.Line2D at 0x297e67c4a08>,\n",
       "  <matplotlib.lines.Line2D at 0x297e67d4f48>,\n",
       "  <matplotlib.lines.Line2D at 0x297e67e9ec8>,\n",
       "  <matplotlib.lines.Line2D at 0x297e67fba08>,\n",
       "  <matplotlib.lines.Line2D at 0x297e680cf48>,\n",
       "  <matplotlib.lines.Line2D at 0x297e6822ec8>,\n",
       "  <matplotlib.lines.Line2D at 0x297e6832a08>,\n",
       "  <matplotlib.lines.Line2D at 0x297e6844f48>],\n",
       " 'means': []}"
      ]
     },
     "execution_count": 38,
     "metadata": {},
     "output_type": "execute_result"
    },
    {
     "data": {
      "image/png": "[encoded data removed]",
      "text/plain": [
       "<Figure size 432x288 with 1 Axes>"
      ]
     },
     "metadata": {
      "needs_background": "light"
     },
     "output_type": "display_data"
    }
   ],
   "source": [
    "plt.boxplot(data)"
   ]
  },
  {
   "cell_type": "code",
   "execution_count": 39,
   "metadata": {},
   "outputs": [],
   "source": [
    "# import necessary modules\n",
    "from sklearn import preprocessing"
   ]
  },
  {
   "cell_type": "code",
   "execution_count": 43,
   "metadata": {},
   "outputs": [],
   "source": [
    "norm=preprocessing.normalize(data)"
   ]
  },
  {
   "cell_type": "code",
   "execution_count": 44,
   "metadata": {},
   "outputs": [
    {
     "data": {
      "text/plain": [
       "array([[0.04835103, 0.99883041],\n",
       "       [0.04077067, 0.99916853],\n",
       "       [0.04680579, 0.99890401],\n",
       "       [0.03986191, 0.9992052 ],\n",
       "       [0.04323439, 0.99906496],\n",
       "       [0.05446449, 0.99851571],\n",
       "       [0.03362153, 0.99943464],\n",
       "       [0.04206799, 0.99911475],\n",
       "       [0.04993762, 0.99875234],\n",
       "       [0.03944297, 0.99922182],\n",
       "       [0.03764771, 0.99929107],\n",
       "       [0.03515414, 0.9993819 ],\n",
       "       [0.02785179, 0.99961206],\n",
       "       [0.07408159, 0.99725218],\n",
       "       [0.06022108, 0.99818506],\n",
       "       [0.09828722, 0.99515809],\n",
       "       [0.10310607, 0.99467037],\n",
       "       [0.03379022, 0.99942895],\n",
       "       [0.04056065, 0.99917708],\n",
       "       [0.05090167, 0.99870367],\n",
       "       [0.04835103, 0.99883041],\n",
       "       [0.05975697, 0.99821296],\n",
       "       [0.05405619, 0.9985379 ],\n",
       "       [0.14742783, 0.98907282],\n",
       "       [0.14315312, 0.98970055],\n",
       "       [0.06798394, 0.99768642],\n",
       "       [0.23337295, 0.9723873 ],\n",
       "       [0.05909653, 0.99825227],\n",
       "       [0.09561258, 0.99541862],\n",
       "       [0.17437044, 0.98468013],\n",
       "       [0.05298669, 0.99859522],\n",
       "       [0.05717129, 0.99836438],\n",
       "       [0.03898134, 0.99923994],\n",
       "       [0.08361422, 0.9964982 ]])"
      ]
     },
     "execution_count": 44,
     "metadata": {},
     "output_type": "execute_result"
    }
   ],
   "source": [
    "norm"
   ]
  },
  {
   "cell_type": "code",
   "execution_count": 51,
   "metadata": {},
   "outputs": [],
   "source": [
    "x= data.iloc[:, :-1].values  \n",
    "y= data.iloc[:, 1].values   "
   ]
  },
  {
   "cell_type": "code",
   "execution_count": 52,
   "metadata": {},
   "outputs": [
    {
     "data": {
      "text/plain": [
       "array([[7.6],\n",
       "       [7.1],\n",
       "       [8.2],\n",
       "       [7.5],\n",
       "       [7.4],\n",
       "       [7.8],\n",
       "       [7.3],\n",
       "       [8. ],\n",
       "       [7.1],\n",
       "       [7.5],\n",
       "       [8.1],\n",
       "       [7. ],\n",
       "       [7.3],\n",
       "       [7.8],\n",
       "       [7.3],\n",
       "       [8. ],\n",
       "       [8.5],\n",
       "       [7.1],\n",
       "       [8.2],\n",
       "       [7.9],\n",
       "       [7.6],\n",
       "       [8.8],\n",
       "       [7.2],\n",
       "       [7.9],\n",
       "       [8.1],\n",
       "       [7.7],\n",
       "       [8.4],\n",
       "       [7.4],\n",
       "       [7.3],\n",
       "       [8.5],\n",
       "       [7.8],\n",
       "       [6.7],\n",
       "       [7.1],\n",
       "       [7.3]])"
      ]
     },
     "execution_count": 52,
     "metadata": {},
     "output_type": "execute_result"
    }
   ],
   "source": [
    "x"
   ]
  },
  {
   "cell_type": "code",
   "execution_count": 53,
   "metadata": {},
   "outputs": [
    {
     "data": {
      "text/plain": [
       "array([157, 174, 175, 188, 171, 143, 217, 190, 142, 190, 215, 199, 262,\n",
       "       105, 121,  81,  82, 210, 202, 155, 157, 147, 133,  53,  56, 113,\n",
       "        35, 125,  76,  48, 147, 117, 182,  87], dtype=int64)"
      ]
     },
     "execution_count": 53,
     "metadata": {},
     "output_type": "execute_result"
    }
   ],
   "source": [
    "y"
   ]
  },
  {
   "cell_type": "code",
   "execution_count": 55,
   "metadata": {},
   "outputs": [],
   "source": [
    "from sklearn.model_selection import train_test_split  \n",
    "x_train, x_test, y_train, y_test= train_test_split(x, y, test_size= 0.1, random_state=0)  "
   ]
  },
  {
   "cell_type": "code",
   "execution_count": 56,
   "metadata": {},
   "outputs": [],
   "source": [
    "from sklearn.linear_model import SGDRegressor\n",
    "from sklearn.pipeline import make_pipeline\n",
    "from sklearn.preprocessing import StandardScaler"
   ]
  },
  {
   "cell_type": "code",
   "execution_count": 77,
   "metadata": {},
   "outputs": [],
   "source": [
    "reg = make_pipeline(StandardScaler(),\n",
    "                 SGDRegressor(max_iter=10000, tol=1e-3))"
   ]
  },
  {
   "cell_type": "code",
   "execution_count": 78,
   "metadata": {},
   "outputs": [
    {
     "data": {
      "text/plain": [
       "Pipeline(memory=None,\n",
       "         steps=[('standardscaler',\n",
       "                 StandardScaler(copy=True, with_mean=True, with_std=True)),\n",
       "                ('sgdregressor',\n",
       "                 SGDRegressor(alpha=0.0001, average=False, early_stopping=False,\n",
       "                              epsilon=0.1, eta0=0.01, fit_intercept=True,\n",
       "                              l1_ratio=0.15, learning_rate='invscaling',\n",
       "                              loss='squared_loss', max_iter=10000,\n",
       "                              n_iter_no_change=5, penalty='l2', power_t=0.25,\n",
       "                              random_state=None, shuffle=True, tol=0.001,\n",
       "                              validation_fraction=0.1, verbose=0,\n",
       "                              warm_start=False))],\n",
       "         verbose=False)"
      ]
     },
     "execution_count": 78,
     "metadata": {},
     "output_type": "execute_result"
    }
   ],
   "source": [
    "reg.fit(x_train,y_train)"
   ]
  },
  {
   "cell_type": "code",
   "execution_count": 79,
   "metadata": {},
   "outputs": [],
   "source": [
    "predicted = reg.predict(x_test)"
   ]
  },
  {
   "cell_type": "code",
   "execution_count": 80,
   "metadata": {},
   "outputs": [
    {
     "data": {
      "text/plain": [
       "array([160.84556582, 142.27663112, 139.18180867, 157.75074337])"
      ]
     },
     "execution_count": 80,
     "metadata": {},
     "output_type": "execute_result"
    }
   ],
   "source": [
    "predicted"
   ]
  },
  {
   "cell_type": "code",
   "execution_count": 84,
   "metadata": {},
   "outputs": [
    {
     "name": "stdout",
     "output_type": "stream",
     "text": [
      "Train Mean absolute error(MAE): 46.58\n",
      "Test Mean absolute error(MAE: 32.83\n"
     ]
    }
   ],
   "source": [
    "train_y_hat = reg.predict(x_train)\n",
    "print(\"Train Mean absolute error(MAE): %.2f\" % np.mean(np.absolute(train_y_hat - y_train)))\n",
    "test_y_hat = reg.predict(x_test)\n",
    "print(\"Test Mean absolute error(MAE: %.2f\" % np.mean(np.absolute(test_y_hat - y_test)))"
   ]
  },
  {
   "cell_type": "code",
   "execution_count": 85,
   "metadata": {},
   "outputs": [
    {
     "name": "stdout",
     "output_type": "stream",
     "text": [
      "Train Residual sum of squares (MSE): 2878.79\n",
      "Test Residual sum of squares (MSE): 1272.00\n"
     ]
    }
   ],
   "source": [
    "print(\"Train Residual sum of squares (MSE): %.2f\" % np.mean((train_y_hat - y_train) ** 2))\n",
    "print(\"Test Residual sum of squares (MSE): %.2f\" % np.mean((test_y_hat - y_test) ** 2))"
   ]
  },
  {
   "cell_type": "code",
   "execution_count": 86,
   "metadata": {},
   "outputs": [
    {
     "name": "stdout",
     "output_type": "stream",
     "text": [
      "Train Mean Square Error (RMSE): 53.65\n",
      "Test Mean Square Error (RMSE): 35.67\n"
     ]
    }
   ],
   "source": [
    "print(\"Train Mean Square Error (RMSE): %.2f\" % np.sqrt(np.mean((train_y_hat - y_train) ** 2)))\n",
    "print(\"Test Mean Square Error (RMSE): %.2f\" % np.sqrt(np.mean((test_y_hat - y_test) ** 2)))"
   ]
  }
 ],
 "metadata": {
  "kernelspec": {
   "display_name": "Python 3",
   "language": "python",
   "name": "python3"
  },
  "language_info": {
   "codemirror_mode": {
    "name": "ipython",
    "version": 3
   },
   "file_extension": ".py",
   "mimetype": "text/x-python",
   "name": "python",
   "nbconvert_exporter": "python",
   "pygments_lexer": "ipython3",
   "version": "3.7.6"
  }
 },
 "nbformat": 4,
 "nbformat_minor": 4
}
