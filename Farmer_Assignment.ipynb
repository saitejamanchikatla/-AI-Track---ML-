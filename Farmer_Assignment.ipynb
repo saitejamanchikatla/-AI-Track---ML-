{
  "cells": [
    {
      "metadata": {
        "collapsed": true
      },
      "cell_type": "markdown",
      "source": "Let,\nx=Wheat\ny=barley\nhectares~hec\nObjective function: MAX=50x+120y\nConstraints:\nCost/hec=7000x+2000y<=700000\nman-days/hec=10x+30y<=1200\nhec piece of land=x+y<=110\n\nBoundaries:\nx,y>=0"
    },
    {
      "metadata": {
        "trusted": true
      },
      "cell_type": "code",
      "source": "from scipy.optimize import linprog\nobjec=[-50,-120]\nlhs_ceq = [[7000,2000],[10,30],[1,1]]\nrhs_ceq = [700000,1200,110]\nbounder=[(0,float('inf')),(0,float('inf'))]\noptimize = linprog(c=objec,A_ub=lhs_ceq,b_ub=rhs_ceq,bounds=bounder,method=\"simplex\")\noptimize",
      "execution_count": 1,
      "outputs": [
        {
          "output_type": "execute_result",
          "execution_count": 1,
          "data": {
            "text/plain": "     fun: -5778.9473684210525\n message: 'Optimization terminated successfully.'\n     nit: 2\n   slack: array([0.        , 0.        , 4.73684211])\n  status: 0\n success: True\n       x: array([97.89473684,  7.36842105])"
          },
          "metadata": {}
        }
      ]
    }
  ],
  "metadata": {
    "kernelspec": {
      "name": "python36",
      "display_name": "Python 3.6",
      "language": "python"
    },
    "language_info": {
      "mimetype": "text/x-python",
      "nbconvert_exporter": "python",
      "name": "python",
      "pygments_lexer": "ipython3",
      "version": "3.6.6",
      "file_extension": ".py",
      "codemirror_mode": {
        "version": 3,
        "name": "ipython"
      }
    }
  },
  "nbformat": 4,
  "nbformat_minor": 2
}