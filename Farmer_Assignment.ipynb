{
 "cells": [
  {
   "cell_type": "markdown",
   "metadata": {
    "collapsed": true
   },
   "source": [
    "Let,\n",
    "x=Wheat\n",
    "y=barley\n",
    "hectares~hec\n",
    "Objective function: MAX=50x+120y\n",
    "Constraints:\n",
    "Cost/hec=7000x+2000y<=700000\n",
    "man-days/hec=10x+30y<=1200\n",
    "hec piece of land=x+y<=110\n",
    "\n",
    "Boundaries:\n",
    "x,y>=0"
   ]
  },
  {
   "cell_type": "code",
   "execution_count": 1,
   "metadata": {},
   "outputs": [
    {
     "data": {
      "text/plain": [
       "     fun: -5778.9473684210525\n",
       " message: 'Optimization terminated successfully.'\n",
       "     nit: 2\n",
       "   slack: array([0.        , 0.        , 4.73684211])\n",
       "  status: 0\n",
       " success: True\n",
       "       x: array([97.89473684,  7.36842105])"
      ]
     },
     "execution_count": 1,
     "metadata": {},
     "output_type": "execute_result"
    }
   ],
   "source": [
    "from scipy.optimize import linprog\n",
    "objec=[-50,-120]\n",
    "lhs_ceq = [[7000,2000],[10,30],[1,1]]\n",
    "rhs_ceq = [700000,1200,110]\n",
    "bounder=[(0,float('inf')),(0,float('inf'))]\n",
    "optimize = linprog(c=objec,A_ub=lhs_ceq,b_ub=rhs_ceq,bounds=bounder,method=\"simplex\")\n",
    "optimize"
   ]
  },
  {
   "cell_type": "markdown",
   "metadata": {},
   "source": [
    "<h3>Conclusion</h3>"
   ]
  },
  {
   "cell_type": "markdown",
   "metadata": {},
   "source": [
    "<p>From above output, we can analyze that if farmer make plantation of wheat in 97.89473684 hectares and barley in 7.36842105 hectares in 110 hectares piece of land. The farmer will make a maximum profits i.e., Rs. 5778.9473684210525</p>"
   ]
  },
  {
   "cell_type": "code",
   "execution_count": null,
   "metadata": {},
   "outputs": [],
   "source": []
  }
 ],
 "metadata": {
  "kernelspec": {
   "display_name": "Python 3",
   "language": "python",
   "name": "python3"
  },
  "language_info": {
   "codemirror_mode": {
    "name": "ipython",
    "version": 3
   },
   "file_extension": ".py",
   "mimetype": "text/x-python",
   "name": "python",
   "nbconvert_exporter": "python",
   "pygments_lexer": "ipython3",
   "version": "3.7.6"
  }
 },
 "nbformat": 4,
 "nbformat_minor": 2
}
