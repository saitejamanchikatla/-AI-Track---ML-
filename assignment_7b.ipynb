{
  "nbformat": 4,
  "nbformat_minor": 0,
  "metadata": {
    "colab": {
      "name": "assignment_7b.ipynb",
      "provenance": []
    },
    "kernelspec": {
      "display_name": "Python 3",
      "language": "python",
      "name": "python3"
    },
    "language_info": {
      "codemirror_mode": {
        "name": "ipython",
        "version": 3
      },
      "file_extension": ".py",
      "mimetype": "text/x-python",
      "name": "python",
      "nbconvert_exporter": "python",
      "pygments_lexer": "ipython3",
      "version": "3.7.8"
    }
  },
  "cells": [
    {
      "cell_type": "code",
      "metadata": {
        "id": "C4yaq-UVTQoI"
      },
      "source": [
        "import pandas as pd\n",
        "data =pd.read_csv('/content/LoadDatainkW.csv')"
      ],
      "execution_count": 2,
      "outputs": []
    },
    {
      "cell_type": "code",
      "metadata": {
        "colab": {
          "base_uri": "https://localhost:8080/"
        },
        "id": "jS8y5v6ITQoI",
        "outputId": "746c1185-8799-4284-901e-a08133830038"
      },
      "source": [
        "data.head(34)\n",
        "data.shape"
      ],
      "execution_count": 3,
      "outputs": [
        {
          "output_type": "execute_result",
          "data": {
            "text/plain": [
              "(2184, 10)"
            ]
          },
          "metadata": {
            "tags": []
          },
          "execution_count": 3
        }
      ]
    },
    {
      "cell_type": "code",
      "metadata": {
        "colab": {
          "base_uri": "https://localhost:8080/"
        },
        "id": "2lNHwsbh8GKm",
        "outputId": "d0fc0cf3-7a79-459a-cca4-337f34b283b7"
      },
      "source": [
        "day_1 = data.iloc[0:-24, 2]\n",
        "day_2 = data.iloc[24:, 2]\n",
        "print(day_1.shape)\n",
        "print(day_2.shape)"
      ],
      "execution_count": 4,
      "outputs": [
        {
          "output_type": "stream",
          "text": [
            "(2160,)\n",
            "(2160,)\n"
          ],
          "name": "stdout"
        }
      ]
    },
    {
      "cell_type": "code",
      "metadata": {
        "id": "TwHTfwVn8LGw"
      },
      "source": [
        "day_2 = day_2.reset_index()\r\n",
        "day_2 = day_2['Load (kW)']"
      ],
      "execution_count": 6,
      "outputs": []
    },
    {
      "cell_type": "code",
      "metadata": {
        "colab": {
          "base_uri": "https://localhost:8080/"
        },
        "id": "5di7JfRN8LWx",
        "outputId": "d2e5ad1f-e0ef-42e2-eb30-f19ad3a00b64"
      },
      "source": [
        "df = pd.concat([day_1, day_2], axis = 1)\r\n",
        "df.shape"
      ],
      "execution_count": 7,
      "outputs": [
        {
          "output_type": "execute_result",
          "data": {
            "text/plain": [
              "(2160, 2)"
            ]
          },
          "metadata": {
            "tags": []
          },
          "execution_count": 7
        }
      ]
    },
    {
      "cell_type": "code",
      "metadata": {
        "colab": {
          "base_uri": "https://localhost:8080/"
        },
        "id": "OTHC40r18GKn",
        "outputId": "084ea45c-a9e7-4896-fcf0-25b34413d7c1"
      },
      "source": [
        "df.columns = ['Day_1', 'Day_2']\n",
        "df.head"
      ],
      "execution_count": 8,
      "outputs": [
        {
          "output_type": "execute_result",
          "data": {
            "text/plain": [
              "<bound method NDFrame.head of            Day_1       Day_2\n",
              "0     5551.82208  4931.26380\n",
              "1     4983.17184  4775.53968\n",
              "2     4888.39680  4713.81120\n",
              "3     5072.95872  4689.02628\n",
              "4     5196.25980  4844.75040\n",
              "...          ...         ...\n",
              "2155  4643.97696  4626.51840\n",
              "2156  5813.70048  4567.90752\n",
              "2157  7115.92200  4723.63164\n",
              "2158  6189.99480  5150.27520\n",
              "2159  5657.97636  6938.37468\n",
              "\n",
              "[2160 rows x 2 columns]>"
            ]
          },
          "metadata": {
            "tags": []
          },
          "execution_count": 8
        }
      ]
    },
    {
      "cell_type": "code",
      "metadata": {
        "colab": {
          "base_uri": "https://localhost:8080/",
          "height": 204
        },
        "id": "ArY1-wGoTQoK",
        "outputId": "5fb1fdd6-dc05-4117-8bfc-16ad20cd7d02"
      },
      "source": [
        "normalized_data = (df-df.mean())/df.std()\r\n",
        "normalized_data.head()"
      ],
      "execution_count": 9,
      "outputs": [
        {
          "output_type": "execute_result",
          "data": {
            "text/html": [
              "<div>\n",
              "<style scoped>\n",
              "    .dataframe tbody tr th:only-of-type {\n",
              "        vertical-align: middle;\n",
              "    }\n",
              "\n",
              "    .dataframe tbody tr th {\n",
              "        vertical-align: top;\n",
              "    }\n",
              "\n",
              "    .dataframe thead th {\n",
              "        text-align: right;\n",
              "    }\n",
              "</style>\n",
              "<table border=\"1\" class=\"dataframe\">\n",
              "  <thead>\n",
              "    <tr style=\"text-align: right;\">\n",
              "      <th></th>\n",
              "      <th>Day_1</th>\n",
              "      <th>Day_2</th>\n",
              "    </tr>\n",
              "  </thead>\n",
              "  <tbody>\n",
              "    <tr>\n",
              "      <th>0</th>\n",
              "      <td>-0.454862</td>\n",
              "      <td>-1.026890</td>\n",
              "    </tr>\n",
              "    <tr>\n",
              "      <th>1</th>\n",
              "      <td>-0.988072</td>\n",
              "      <td>-1.172657</td>\n",
              "    </tr>\n",
              "    <tr>\n",
              "      <th>2</th>\n",
              "      <td>-1.076940</td>\n",
              "      <td>-1.230438</td>\n",
              "    </tr>\n",
              "    <tr>\n",
              "      <th>3</th>\n",
              "      <td>-0.903881</td>\n",
              "      <td>-1.253638</td>\n",
              "    </tr>\n",
              "    <tr>\n",
              "      <th>4</th>\n",
              "      <td>-0.788264</td>\n",
              "      <td>-1.107871</td>\n",
              "    </tr>\n",
              "  </tbody>\n",
              "</table>\n",
              "</div>"
            ],
            "text/plain": [
              "      Day_1     Day_2\n",
              "0 -0.454862 -1.026890\n",
              "1 -0.988072 -1.172657\n",
              "2 -1.076940 -1.230438\n",
              "3 -0.903881 -1.253638\n",
              "4 -0.788264 -1.107871"
            ]
          },
          "metadata": {
            "tags": []
          },
          "execution_count": 9
        }
      ]
    },
    {
      "cell_type": "code",
      "metadata": {
        "id": "oRmrbhjvTQoL"
      },
      "source": [
        "from sklearn.model_selection import train_test_split\n",
        "x_train, x_test, y_train, y_test = train_test_split(normalized_data.Day_1, normalized_data.Day_2, test_size = 0.10, random_state = 42)"
      ],
      "execution_count": 10,
      "outputs": []
    },
    {
      "cell_type": "code",
      "metadata": {
        "colab": {
          "base_uri": "https://localhost:8080/"
        },
        "id": "1YAfC0BbTQoL",
        "outputId": "445b77b7-25a2-490a-a9fc-253cf927ac8a"
      },
      "source": [
        "m = 1\r\n",
        "c = -1\r\n",
        "lr = 0.01\r\n",
        "delta_m = 1 #Initialising Δm\r\n",
        "delta_c = 1 #Initialising Δc\r\n",
        "v_m = 0\r\n",
        "v_c = 0\r\n",
        "lam = 0.9\r\n",
        "max_iters = 100 #Maximum number of iterations  \r\n",
        "iters_count = 0 #Counting Iterations\r\n",
        "\r\n",
        "\r\n",
        "def deriv(m_f, c_f, x, y):\r\n",
        "  m_deriv = -1*(y-m_f*x-c_f)*x\r\n",
        "  c_deriv = -1*(y-m_f*x-c_f)\r\n",
        "  return m_deriv, c_deriv  \r\n",
        "\r\n",
        "\r\n",
        "while iters_count < max_iters:\r\n",
        "  for i in range(x_train.shape[0]):\r\n",
        "    delta_m, delta_c = deriv(m, c, x_train.iloc[i], y_train.iloc[i])\r\n",
        "    v_m = lam * v_m - lr * delta_m\r\n",
        "    v_c = lam * v_c - lr * delta_c\r\n",
        "    m += v_m\r\n",
        "    c += v_c\r\n",
        "  iters_count += 1\r\n",
        "  print(f\"Iteration: {iters_count}\\tValue of m: {m}, \\tValue of c: {c}\")\r\n",
        "\r\n",
        "print(f\"\\nThe local minima occurs at: {m}, {c}\")"
      ],
      "execution_count": 12,
      "outputs": [
        {
          "output_type": "stream",
          "text": [
            "Iteration: 1\tValue of m: 0.8885266666378754, \tValue of c: -0.015125603603097632\n",
            "Iteration: 2\tValue of m: 0.8885266666378754, \tValue of c: -0.015125603603097632\n",
            "Iteration: 3\tValue of m: 0.8885266666378754, \tValue of c: -0.015125603603097632\n",
            "Iteration: 4\tValue of m: 0.8885266666378754, \tValue of c: -0.015125603603097632\n",
            "Iteration: 5\tValue of m: 0.8885266666378754, \tValue of c: -0.015125603603097632\n",
            "Iteration: 6\tValue of m: 0.8885266666378754, \tValue of c: -0.015125603603097632\n",
            "Iteration: 7\tValue of m: 0.8885266666378754, \tValue of c: -0.015125603603097632\n",
            "Iteration: 8\tValue of m: 0.8885266666378754, \tValue of c: -0.015125603603097632\n",
            "Iteration: 9\tValue of m: 0.8885266666378754, \tValue of c: -0.015125603603097632\n",
            "Iteration: 10\tValue of m: 0.8885266666378754, \tValue of c: -0.015125603603097632\n",
            "Iteration: 11\tValue of m: 0.8885266666378754, \tValue of c: -0.015125603603097632\n",
            "Iteration: 12\tValue of m: 0.8885266666378754, \tValue of c: -0.015125603603097632\n",
            "Iteration: 13\tValue of m: 0.8885266666378754, \tValue of c: -0.015125603603097632\n",
            "Iteration: 14\tValue of m: 0.8885266666378754, \tValue of c: -0.015125603603097632\n",
            "Iteration: 15\tValue of m: 0.8885266666378754, \tValue of c: -0.015125603603097632\n",
            "Iteration: 16\tValue of m: 0.8885266666378754, \tValue of c: -0.015125603603097632\n",
            "Iteration: 17\tValue of m: 0.8885266666378754, \tValue of c: -0.015125603603097632\n",
            "Iteration: 18\tValue of m: 0.8885266666378754, \tValue of c: -0.015125603603097632\n",
            "Iteration: 19\tValue of m: 0.8885266666378754, \tValue of c: -0.015125603603097632\n",
            "Iteration: 20\tValue of m: 0.8885266666378754, \tValue of c: -0.015125603603097632\n",
            "Iteration: 21\tValue of m: 0.8885266666378754, \tValue of c: -0.015125603603097632\n",
            "Iteration: 22\tValue of m: 0.8885266666378754, \tValue of c: -0.015125603603097632\n",
            "Iteration: 23\tValue of m: 0.8885266666378754, \tValue of c: -0.015125603603097632\n",
            "Iteration: 24\tValue of m: 0.8885266666378754, \tValue of c: -0.015125603603097632\n",
            "Iteration: 25\tValue of m: 0.8885266666378754, \tValue of c: -0.015125603603097632\n",
            "Iteration: 26\tValue of m: 0.8885266666378754, \tValue of c: -0.015125603603097632\n",
            "Iteration: 27\tValue of m: 0.8885266666378754, \tValue of c: -0.015125603603097632\n",
            "Iteration: 28\tValue of m: 0.8885266666378754, \tValue of c: -0.015125603603097632\n",
            "Iteration: 29\tValue of m: 0.8885266666378754, \tValue of c: -0.015125603603097632\n",
            "Iteration: 30\tValue of m: 0.8885266666378754, \tValue of c: -0.015125603603097632\n",
            "Iteration: 31\tValue of m: 0.8885266666378754, \tValue of c: -0.015125603603097632\n",
            "Iteration: 32\tValue of m: 0.8885266666378754, \tValue of c: -0.015125603603097632\n",
            "Iteration: 33\tValue of m: 0.8885266666378754, \tValue of c: -0.015125603603097632\n",
            "Iteration: 34\tValue of m: 0.8885266666378754, \tValue of c: -0.015125603603097632\n",
            "Iteration: 35\tValue of m: 0.8885266666378754, \tValue of c: -0.015125603603097632\n",
            "Iteration: 36\tValue of m: 0.8885266666378754, \tValue of c: -0.015125603603097632\n",
            "Iteration: 37\tValue of m: 0.8885266666378754, \tValue of c: -0.015125603603097632\n",
            "Iteration: 38\tValue of m: 0.8885266666378754, \tValue of c: -0.015125603603097632\n",
            "Iteration: 39\tValue of m: 0.8885266666378754, \tValue of c: -0.015125603603097632\n",
            "Iteration: 40\tValue of m: 0.8885266666378754, \tValue of c: -0.015125603603097632\n",
            "Iteration: 41\tValue of m: 0.8885266666378754, \tValue of c: -0.015125603603097632\n",
            "Iteration: 42\tValue of m: 0.8885266666378754, \tValue of c: -0.015125603603097632\n",
            "Iteration: 43\tValue of m: 0.8885266666378754, \tValue of c: -0.015125603603097632\n",
            "Iteration: 44\tValue of m: 0.8885266666378754, \tValue of c: -0.015125603603097632\n",
            "Iteration: 45\tValue of m: 0.8885266666378754, \tValue of c: -0.015125603603097632\n",
            "Iteration: 46\tValue of m: 0.8885266666378754, \tValue of c: -0.015125603603097632\n",
            "Iteration: 47\tValue of m: 0.8885266666378754, \tValue of c: -0.015125603603097632\n",
            "Iteration: 48\tValue of m: 0.8885266666378754, \tValue of c: -0.015125603603097632\n",
            "Iteration: 49\tValue of m: 0.8885266666378754, \tValue of c: -0.015125603603097632\n",
            "Iteration: 50\tValue of m: 0.8885266666378754, \tValue of c: -0.015125603603097632\n",
            "Iteration: 51\tValue of m: 0.8885266666378754, \tValue of c: -0.015125603603097632\n",
            "Iteration: 52\tValue of m: 0.8885266666378754, \tValue of c: -0.015125603603097632\n",
            "Iteration: 53\tValue of m: 0.8885266666378754, \tValue of c: -0.015125603603097632\n",
            "Iteration: 54\tValue of m: 0.8885266666378754, \tValue of c: -0.015125603603097632\n",
            "Iteration: 55\tValue of m: 0.8885266666378754, \tValue of c: -0.015125603603097632\n",
            "Iteration: 56\tValue of m: 0.8885266666378754, \tValue of c: -0.015125603603097632\n",
            "Iteration: 57\tValue of m: 0.8885266666378754, \tValue of c: -0.015125603603097632\n",
            "Iteration: 58\tValue of m: 0.8885266666378754, \tValue of c: -0.015125603603097632\n",
            "Iteration: 59\tValue of m: 0.8885266666378754, \tValue of c: -0.015125603603097632\n",
            "Iteration: 60\tValue of m: 0.8885266666378754, \tValue of c: -0.015125603603097632\n",
            "Iteration: 61\tValue of m: 0.8885266666378754, \tValue of c: -0.015125603603097632\n",
            "Iteration: 62\tValue of m: 0.8885266666378754, \tValue of c: -0.015125603603097632\n",
            "Iteration: 63\tValue of m: 0.8885266666378754, \tValue of c: -0.015125603603097632\n",
            "Iteration: 64\tValue of m: 0.8885266666378754, \tValue of c: -0.015125603603097632\n",
            "Iteration: 65\tValue of m: 0.8885266666378754, \tValue of c: -0.015125603603097632\n",
            "Iteration: 66\tValue of m: 0.8885266666378754, \tValue of c: -0.015125603603097632\n",
            "Iteration: 67\tValue of m: 0.8885266666378754, \tValue of c: -0.015125603603097632\n",
            "Iteration: 68\tValue of m: 0.8885266666378754, \tValue of c: -0.015125603603097632\n",
            "Iteration: 69\tValue of m: 0.8885266666378754, \tValue of c: -0.015125603603097632\n",
            "Iteration: 70\tValue of m: 0.8885266666378754, \tValue of c: -0.015125603603097632\n",
            "Iteration: 71\tValue of m: 0.8885266666378754, \tValue of c: -0.015125603603097632\n",
            "Iteration: 72\tValue of m: 0.8885266666378754, \tValue of c: -0.015125603603097632\n",
            "Iteration: 73\tValue of m: 0.8885266666378754, \tValue of c: -0.015125603603097632\n",
            "Iteration: 74\tValue of m: 0.8885266666378754, \tValue of c: -0.015125603603097632\n",
            "Iteration: 75\tValue of m: 0.8885266666378754, \tValue of c: -0.015125603603097632\n",
            "Iteration: 76\tValue of m: 0.8885266666378754, \tValue of c: -0.015125603603097632\n",
            "Iteration: 77\tValue of m: 0.8885266666378754, \tValue of c: -0.015125603603097632\n",
            "Iteration: 78\tValue of m: 0.8885266666378754, \tValue of c: -0.015125603603097632\n",
            "Iteration: 79\tValue of m: 0.8885266666378754, \tValue of c: -0.015125603603097632\n",
            "Iteration: 80\tValue of m: 0.8885266666378754, \tValue of c: -0.015125603603097632\n",
            "Iteration: 81\tValue of m: 0.8885266666378754, \tValue of c: -0.015125603603097632\n",
            "Iteration: 82\tValue of m: 0.8885266666378754, \tValue of c: -0.015125603603097632\n",
            "Iteration: 83\tValue of m: 0.8885266666378754, \tValue of c: -0.015125603603097632\n",
            "Iteration: 84\tValue of m: 0.8885266666378754, \tValue of c: -0.015125603603097632\n",
            "Iteration: 85\tValue of m: 0.8885266666378754, \tValue of c: -0.015125603603097632\n",
            "Iteration: 86\tValue of m: 0.8885266666378754, \tValue of c: -0.015125603603097632\n",
            "Iteration: 87\tValue of m: 0.8885266666378754, \tValue of c: -0.015125603603097632\n",
            "Iteration: 88\tValue of m: 0.8885266666378754, \tValue of c: -0.015125603603097632\n",
            "Iteration: 89\tValue of m: 0.8885266666378754, \tValue of c: -0.015125603603097632\n",
            "Iteration: 90\tValue of m: 0.8885266666378754, \tValue of c: -0.015125603603097632\n",
            "Iteration: 91\tValue of m: 0.8885266666378754, \tValue of c: -0.015125603603097632\n",
            "Iteration: 92\tValue of m: 0.8885266666378754, \tValue of c: -0.015125603603097632\n",
            "Iteration: 93\tValue of m: 0.8885266666378754, \tValue of c: -0.015125603603097632\n",
            "Iteration: 94\tValue of m: 0.8885266666378754, \tValue of c: -0.015125603603097632\n",
            "Iteration: 95\tValue of m: 0.8885266666378754, \tValue of c: -0.015125603603097632\n",
            "Iteration: 96\tValue of m: 0.8885266666378754, \tValue of c: -0.015125603603097632\n",
            "Iteration: 97\tValue of m: 0.8885266666378754, \tValue of c: -0.015125603603097632\n",
            "Iteration: 98\tValue of m: 0.8885266666378754, \tValue of c: -0.015125603603097632\n",
            "Iteration: 99\tValue of m: 0.8885266666378754, \tValue of c: -0.015125603603097632\n",
            "Iteration: 100\tValue of m: 0.8885266666378754, \tValue of c: -0.015125603603097632\n",
            "\n",
            "The local minima occurs at: 0.8885266666378754, -0.015125603603097632\n"
          ],
          "name": "stdout"
        }
      ]
    },
    {
      "cell_type": "code",
      "metadata": {
        "id": "jS4h1fWoTQoM"
      },
      "source": [
        "import numpy as np\r\n",
        "\r\n",
        "x_train = np.array(x_train)\r\n",
        "y_train = np.array(y_train)\r\n",
        "x_test = np.array(x_test)\r\n",
        "y_test = np.array(y_test)"
      ],
      "execution_count": 13,
      "outputs": []
    },
    {
      "cell_type": "code",
      "metadata": {
        "id": "RhDYoQ2RTQoM"
      },
      "source": [
        "y_pred_train = []\n",
        "for i in x_train:\n",
        "  y_p_tr = (m * i) + c\n",
        "  y_pred_train.append(y_p_tr)\n",
        "y_pred_train = np.array(y_pred_train)"
      ],
      "execution_count": 14,
      "outputs": []
    },
    {
      "cell_type": "code",
      "metadata": {
        "id": "KeiX-iubTQoN"
      },
      "source": [
        "y_pred_test = []\n",
        "for i in x_test:\n",
        "  y_p_te = (m * i) + c\n",
        "  y_pred_test.append(y_p_te)\n",
        "y_pred_test = np.array(y_pred_test)"
      ],
      "execution_count": 15,
      "outputs": []
    },
    {
      "cell_type": "code",
      "metadata": {
        "colab": {
          "base_uri": "https://localhost:8080/"
        },
        "id": "GlAepDSRTQoN",
        "outputId": "d6e800e4-c500-42fc-852d-fa67ea20b85d"
      },
      "source": [
        "import math\n",
        "from sklearn.metrics import mean_squared_error \n",
        "from sklearn.metrics import mean_absolute_error\n",
        "\n",
        "\n",
        "#Training Accuracies\n",
        "mse = math.sqrt(mean_squared_error(y_train, y_pred_train)) \n",
        "print('Root mean square error', mse) \n",
        "mse = (mean_squared_error(y_train, y_pred_train)) \n",
        "print('Mean square error', mse) \n",
        "mae=mean_absolute_error(y_train, y_pred_train)\n",
        "print('Mean absolute error', mae)"
      ],
      "execution_count": 16,
      "outputs": [
        {
          "output_type": "stream",
          "text": [
            "Root mean square error 0.6888134336509062\n",
            "Mean square error 0.4744639463779513\n",
            "Mean absolute error 0.4922787663231915\n"
          ],
          "name": "stdout"
        }
      ]
    },
    {
      "cell_type": "code",
      "metadata": {
        "colab": {
          "base_uri": "https://localhost:8080/"
        },
        "id": "dzL9YRDWTQoO",
        "outputId": "c3b43e09-92b7-4c26-a283-76ab7505654e"
      },
      "source": [
        "#Testing Accuracies\n",
        "mse = math.sqrt(mean_squared_error(y_test, y_pred_test)) \n",
        "print('Root mean square error', mse) \n",
        "mse = (mean_squared_error(y_test, y_pred_test)) \n",
        "print('Mean square error', mse) \n",
        "mae=mean_absolute_error(y_test, y_pred_test)\n",
        "print('Mean absolute error', mae)"
      ],
      "execution_count": 17,
      "outputs": [
        {
          "output_type": "stream",
          "text": [
            "Root mean square error 0.6650642307346853\n",
            "Mean square error 0.4423104310027188\n",
            "Mean absolute error 0.48048030390084917\n"
          ],
          "name": "stdout"
        }
      ]
    },
    {
      "cell_type": "code",
      "metadata": {
        "colab": {
          "base_uri": "https://localhost:8080/"
        },
        "id": "mqh47tZS8GKs",
        "outputId": "de22235c-fa6c-48ad-e7ec-fcb4cd72adaf"
      },
      "source": [
        "hour = input(\"Enter an hour(0-23) of 1st December, 2018 to predict the load\")\n",
        "index = 2137 + int(hour)\n",
        "x = normalized_data.iloc[index, 1]\n",
        "normalised_output = m * x + c\n",
        "output = (normalised_output * df.std()) + df.mean()\n",
        "print(f\"Predicted Load (kW) at {hour} hours on 1st December, 2018: {output[0]}\")"
      ],
      "execution_count": 21,
      "outputs": [
        {
          "output_type": "stream",
          "text": [
            "Enter an hour(0-23) of 1st December, 2018 to predict the load9\n",
            "Predicted Load (kW) at 9 hours on 1st December, 2018: 5692.727136365451\n"
          ],
          "name": "stdout"
        }
      ]
    },
    {
      "cell_type": "code",
      "metadata": {
        "id": "pUYfRQ3t8GKs"
      },
      "source": [
        ""
      ],
      "execution_count": null,
      "outputs": []
    }
  ]
}