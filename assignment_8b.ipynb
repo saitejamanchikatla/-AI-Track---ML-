{
  "nbformat": 4,
  "nbformat_minor": 0,
  "metadata": {
    "colab": {
      "name": "assignment_8b.ipynb",
      "provenance": []
    },
    "kernelspec": {
      "display_name": "Python 3",
      "language": "python",
      "name": "python3"
    },
    "language_info": {
      "codemirror_mode": {
        "name": "ipython",
        "version": 3
      },
      "file_extension": ".py",
      "mimetype": "text/x-python",
      "name": "python",
      "nbconvert_exporter": "python",
      "pygments_lexer": "ipython3",
      "version": "3.7.8"
    }
  },
  "cells": [
    {
      "cell_type": "code",
      "metadata": {
        "id": "C4yaq-UVTQoI"
      },
      "source": [
        "import pandas as pd\n",
        "data =pd.read_csv('/content/LoadDatainkW.csv')"
      ],
      "execution_count": 2,
      "outputs": []
    },
    {
      "cell_type": "code",
      "metadata": {
        "colab": {
          "base_uri": "https://localhost:8080/"
        },
        "id": "jS8y5v6ITQoI",
        "outputId": "c3e3c79a-cc23-41d8-8029-30c7385e0005"
      },
      "source": [
        "data.head(34)\n",
        "data.shape"
      ],
      "execution_count": 3,
      "outputs": [
        {
          "output_type": "execute_result",
          "data": {
            "text/plain": [
              "(2184, 10)"
            ]
          },
          "metadata": {
            "tags": []
          },
          "execution_count": 3
        }
      ]
    },
    {
      "cell_type": "code",
      "metadata": {
        "colab": {
          "base_uri": "https://localhost:8080/"
        },
        "id": "4JwRV1TVJbyr",
        "outputId": "00c17c0d-53ee-4789-8d2c-6467c0e95776"
      },
      "source": [
        "hour_1 = data.iloc[0:-1, 2]\n",
        "hour_2 = data.iloc[1:, 2]\n",
        "print(hour_1.shape)\n",
        "print(hour_2.shape)"
      ],
      "execution_count": 4,
      "outputs": [
        {
          "output_type": "stream",
          "text": [
            "(2183,)\n",
            "(2183,)\n"
          ],
          "name": "stdout"
        }
      ]
    },
    {
      "cell_type": "code",
      "metadata": {
        "id": "TTri3hI5Jbys"
      },
      "source": [
        "hour_2 = hour_2.reset_index()\n",
        "hour_2 = hour_2['Load (kW)']"
      ],
      "execution_count": 5,
      "outputs": []
    },
    {
      "cell_type": "code",
      "metadata": {
        "colab": {
          "base_uri": "https://localhost:8080/"
        },
        "id": "fkWRDK4DJbys",
        "outputId": "8d0d86cc-3840-41a4-c6bf-37748040dfaa"
      },
      "source": [
        "df = pd.concat([hour_1, hour_2], axis = 1)\n",
        "df.shape"
      ],
      "execution_count": 6,
      "outputs": [
        {
          "output_type": "execute_result",
          "data": {
            "text/plain": [
              "(2183, 2)"
            ]
          },
          "metadata": {
            "tags": []
          },
          "execution_count": 6
        }
      ]
    },
    {
      "cell_type": "code",
      "metadata": {
        "colab": {
          "base_uri": "https://localhost:8080/"
        },
        "id": "SKBtAQTXJbyt",
        "outputId": "5c2d4711-7065-4e2b-8df1-3f11bc914c97"
      },
      "source": [
        "df.columns = ['Hour_1', 'Hour_2']\n",
        "df.head"
      ],
      "execution_count": 7,
      "outputs": [
        {
          "output_type": "execute_result",
          "data": {
            "text/plain": [
              "<bound method NDFrame.head of           Hour_1      Hour_2\n",
              "0     5551.82208  4983.17184\n",
              "1     4983.17184  4888.39680\n",
              "2     4888.39680  5072.95872\n",
              "3     5072.95872  5196.25980\n",
              "4     5196.25980  5641.29720\n",
              "...          ...         ...\n",
              "2178  5045.52384  4626.51840\n",
              "2179  4626.51840  4567.90752\n",
              "2180  4567.90752  4723.63164\n",
              "2181  4723.63164  5150.27520\n",
              "2182  5150.27520  6938.37468\n",
              "\n",
              "[2183 rows x 2 columns]>"
            ]
          },
          "metadata": {
            "tags": []
          },
          "execution_count": 7
        }
      ]
    },
    {
      "cell_type": "code",
      "metadata": {
        "colab": {
          "base_uri": "https://localhost:8080/",
          "height": 204
        },
        "id": "ArY1-wGoTQoK",
        "outputId": "2b02d478-f393-47d2-a383-747dd8b028f9"
      },
      "source": [
        "normalized_data = (df-df.mean())/df.std()\r\n",
        "normalized_data.head()"
      ],
      "execution_count": 8,
      "outputs": [
        {
          "output_type": "execute_result",
          "data": {
            "text/html": [
              "<div>\n",
              "<style scoped>\n",
              "    .dataframe tbody tr th:only-of-type {\n",
              "        vertical-align: middle;\n",
              "    }\n",
              "\n",
              "    .dataframe tbody tr th {\n",
              "        vertical-align: top;\n",
              "    }\n",
              "\n",
              "    .dataframe thead th {\n",
              "        text-align: right;\n",
              "    }\n",
              "</style>\n",
              "<table border=\"1\" class=\"dataframe\">\n",
              "  <thead>\n",
              "    <tr style=\"text-align: right;\">\n",
              "      <th></th>\n",
              "      <th>Hour_1</th>\n",
              "      <th>Hour_2</th>\n",
              "    </tr>\n",
              "  </thead>\n",
              "  <tbody>\n",
              "    <tr>\n",
              "      <th>0</th>\n",
              "      <td>-0.446228</td>\n",
              "      <td>-0.979915</td>\n",
              "    </tr>\n",
              "    <tr>\n",
              "      <th>1</th>\n",
              "      <td>-0.979438</td>\n",
              "      <td>-1.068773</td>\n",
              "    </tr>\n",
              "    <tr>\n",
              "      <th>2</th>\n",
              "      <td>-1.068307</td>\n",
              "      <td>-0.895734</td>\n",
              "    </tr>\n",
              "    <tr>\n",
              "      <th>3</th>\n",
              "      <td>-0.895247</td>\n",
              "      <td>-0.780131</td>\n",
              "    </tr>\n",
              "    <tr>\n",
              "      <th>4</th>\n",
              "      <td>-0.779630</td>\n",
              "      <td>-0.362881</td>\n",
              "    </tr>\n",
              "  </tbody>\n",
              "</table>\n",
              "</div>"
            ],
            "text/plain": [
              "     Hour_1    Hour_2\n",
              "0 -0.446228 -0.979915\n",
              "1 -0.979438 -1.068773\n",
              "2 -1.068307 -0.895734\n",
              "3 -0.895247 -0.780131\n",
              "4 -0.779630 -0.362881"
            ]
          },
          "metadata": {
            "tags": []
          },
          "execution_count": 8
        }
      ]
    },
    {
      "cell_type": "code",
      "metadata": {
        "id": "oRmrbhjvTQoL"
      },
      "source": [
        "from sklearn.model_selection import train_test_split\n",
        "x_train, x_test, y_train, y_test = train_test_split(normalized_data.Hour_1, normalized_data.Hour_2, test_size = 0.10, random_state = 42)"
      ],
      "execution_count": 9,
      "outputs": []
    },
    {
      "cell_type": "code",
      "metadata": {
        "colab": {
          "base_uri": "https://localhost:8080/"
        },
        "id": "1YAfC0BbTQoL",
        "outputId": "07935404-eda1-49cf-ac4c-59963c1cef10"
      },
      "source": [
        "m = 1 #Initial value of slope\r\n",
        "c = -1 #Initial value of intercept\r\n",
        "lr = 0.01 #Learning Rate\r\n",
        "delta_m = 1 #Initialising Δm\r\n",
        "delta_c = 1 #Initialising Δc\r\n",
        "v_m = 0\r\n",
        "v_c = 0\r\n",
        "lam = 0.9\r\n",
        "max_iters = 100 #Maximum number of iterations  \r\n",
        "iters_count = 0 #Counting Iterations\r\n",
        "\r\n",
        "\r\n",
        "def deriv(m_f, c_f, x, y, v1, v2):\r\n",
        "  global lam\r\n",
        "  m_deriv = -1 * (y - (m_f - lam * v1) * x - c_f + lam * v2) * x\r\n",
        "  c_deriv = -1 * (y - (m_f - lam * v1) * x - c_f + lam * v2)\r\n",
        "  return m_deriv, c_deriv  \r\n",
        "\r\n",
        "\r\n",
        "while iters_count < max_iters:\r\n",
        "  for i in range(x_train.shape[0]):\r\n",
        "    delta_m, delta_c = deriv(m, c, x_train.iloc[i], y_train.iloc[i], v_m, v_c)\r\n",
        "    v_m = lam * v_m - lr * delta_m\r\n",
        "    v_c = lam * v_c - lr * delta_c\r\n",
        "    m += v_m\r\n",
        "    c += v_c\r\n",
        "  iters_count += 1\r\n",
        "  print(f\"Iteration: {iters_count}\\tValue of m: {m}, \\tValue of c: {c}\")\r\n",
        "print(f\"\\nThe local minima occurs at: {m}, {c}\")"
      ],
      "execution_count": 10,
      "outputs": [
        {
          "output_type": "stream",
          "text": [
            "Iteration: 1\tValue of m: 0.8497957222095366, \tValue of c: -0.15662392198536862\n",
            "Iteration: 2\tValue of m: 0.8497957222095366, \tValue of c: -0.15662392198536862\n",
            "Iteration: 3\tValue of m: 0.8497957222095366, \tValue of c: -0.15662392198536862\n",
            "Iteration: 4\tValue of m: 0.8497957222095366, \tValue of c: -0.15662392198536862\n",
            "Iteration: 5\tValue of m: 0.8497957222095366, \tValue of c: -0.15662392198536862\n",
            "Iteration: 6\tValue of m: 0.8497957222095366, \tValue of c: -0.15662392198536862\n",
            "Iteration: 7\tValue of m: 0.8497957222095366, \tValue of c: -0.15662392198536862\n",
            "Iteration: 8\tValue of m: 0.8497957222095366, \tValue of c: -0.15662392198536862\n",
            "Iteration: 9\tValue of m: 0.8497957222095366, \tValue of c: -0.15662392198536862\n",
            "Iteration: 10\tValue of m: 0.8497957222095366, \tValue of c: -0.15662392198536862\n",
            "Iteration: 11\tValue of m: 0.8497957222095366, \tValue of c: -0.15662392198536862\n",
            "Iteration: 12\tValue of m: 0.8497957222095366, \tValue of c: -0.15662392198536862\n",
            "Iteration: 13\tValue of m: 0.8497957222095366, \tValue of c: -0.15662392198536862\n",
            "Iteration: 14\tValue of m: 0.8497957222095366, \tValue of c: -0.15662392198536862\n",
            "Iteration: 15\tValue of m: 0.8497957222095366, \tValue of c: -0.15662392198536862\n",
            "Iteration: 16\tValue of m: 0.8497957222095366, \tValue of c: -0.15662392198536862\n",
            "Iteration: 17\tValue of m: 0.8497957222095366, \tValue of c: -0.15662392198536862\n",
            "Iteration: 18\tValue of m: 0.8497957222095366, \tValue of c: -0.15662392198536862\n",
            "Iteration: 19\tValue of m: 0.8497957222095366, \tValue of c: -0.15662392198536862\n",
            "Iteration: 20\tValue of m: 0.8497957222095366, \tValue of c: -0.15662392198536862\n",
            "Iteration: 21\tValue of m: 0.8497957222095366, \tValue of c: -0.15662392198536862\n",
            "Iteration: 22\tValue of m: 0.8497957222095366, \tValue of c: -0.15662392198536862\n",
            "Iteration: 23\tValue of m: 0.8497957222095366, \tValue of c: -0.15662392198536862\n",
            "Iteration: 24\tValue of m: 0.8497957222095366, \tValue of c: -0.15662392198536862\n",
            "Iteration: 25\tValue of m: 0.8497957222095366, \tValue of c: -0.15662392198536862\n",
            "Iteration: 26\tValue of m: 0.8497957222095366, \tValue of c: -0.15662392198536862\n",
            "Iteration: 27\tValue of m: 0.8497957222095366, \tValue of c: -0.15662392198536862\n",
            "Iteration: 28\tValue of m: 0.8497957222095366, \tValue of c: -0.15662392198536862\n",
            "Iteration: 29\tValue of m: 0.8497957222095366, \tValue of c: -0.15662392198536862\n",
            "Iteration: 30\tValue of m: 0.8497957222095366, \tValue of c: -0.15662392198536862\n",
            "Iteration: 31\tValue of m: 0.8497957222095366, \tValue of c: -0.15662392198536862\n",
            "Iteration: 32\tValue of m: 0.8497957222095366, \tValue of c: -0.15662392198536862\n",
            "Iteration: 33\tValue of m: 0.8497957222095366, \tValue of c: -0.15662392198536862\n",
            "Iteration: 34\tValue of m: 0.8497957222095366, \tValue of c: -0.15662392198536862\n",
            "Iteration: 35\tValue of m: 0.8497957222095366, \tValue of c: -0.15662392198536862\n",
            "Iteration: 36\tValue of m: 0.8497957222095366, \tValue of c: -0.15662392198536862\n",
            "Iteration: 37\tValue of m: 0.8497957222095366, \tValue of c: -0.15662392198536862\n",
            "Iteration: 38\tValue of m: 0.8497957222095366, \tValue of c: -0.15662392198536862\n",
            "Iteration: 39\tValue of m: 0.8497957222095366, \tValue of c: -0.15662392198536862\n",
            "Iteration: 40\tValue of m: 0.8497957222095366, \tValue of c: -0.15662392198536862\n",
            "Iteration: 41\tValue of m: 0.8497957222095366, \tValue of c: -0.15662392198536862\n",
            "Iteration: 42\tValue of m: 0.8497957222095366, \tValue of c: -0.15662392198536862\n",
            "Iteration: 43\tValue of m: 0.8497957222095366, \tValue of c: -0.15662392198536862\n",
            "Iteration: 44\tValue of m: 0.8497957222095366, \tValue of c: -0.15662392198536862\n",
            "Iteration: 45\tValue of m: 0.8497957222095366, \tValue of c: -0.15662392198536862\n",
            "Iteration: 46\tValue of m: 0.8497957222095366, \tValue of c: -0.15662392198536862\n",
            "Iteration: 47\tValue of m: 0.8497957222095366, \tValue of c: -0.15662392198536862\n",
            "Iteration: 48\tValue of m: 0.8497957222095366, \tValue of c: -0.15662392198536862\n",
            "Iteration: 49\tValue of m: 0.8497957222095366, \tValue of c: -0.15662392198536862\n",
            "Iteration: 50\tValue of m: 0.8497957222095366, \tValue of c: -0.15662392198536862\n",
            "Iteration: 51\tValue of m: 0.8497957222095366, \tValue of c: -0.15662392198536862\n",
            "Iteration: 52\tValue of m: 0.8497957222095366, \tValue of c: -0.15662392198536862\n",
            "Iteration: 53\tValue of m: 0.8497957222095366, \tValue of c: -0.15662392198536862\n",
            "Iteration: 54\tValue of m: 0.8497957222095366, \tValue of c: -0.15662392198536862\n",
            "Iteration: 55\tValue of m: 0.8497957222095366, \tValue of c: -0.15662392198536862\n",
            "Iteration: 56\tValue of m: 0.8497957222095366, \tValue of c: -0.15662392198536862\n",
            "Iteration: 57\tValue of m: 0.8497957222095366, \tValue of c: -0.15662392198536862\n",
            "Iteration: 58\tValue of m: 0.8497957222095366, \tValue of c: -0.15662392198536862\n",
            "Iteration: 59\tValue of m: 0.8497957222095366, \tValue of c: -0.15662392198536862\n",
            "Iteration: 60\tValue of m: 0.8497957222095366, \tValue of c: -0.15662392198536862\n",
            "Iteration: 61\tValue of m: 0.8497957222095366, \tValue of c: -0.15662392198536862\n",
            "Iteration: 62\tValue of m: 0.8497957222095366, \tValue of c: -0.15662392198536862\n",
            "Iteration: 63\tValue of m: 0.8497957222095366, \tValue of c: -0.15662392198536862\n",
            "Iteration: 64\tValue of m: 0.8497957222095366, \tValue of c: -0.15662392198536862\n",
            "Iteration: 65\tValue of m: 0.8497957222095366, \tValue of c: -0.15662392198536862\n",
            "Iteration: 66\tValue of m: 0.8497957222095366, \tValue of c: -0.15662392198536862\n",
            "Iteration: 67\tValue of m: 0.8497957222095366, \tValue of c: -0.15662392198536862\n",
            "Iteration: 68\tValue of m: 0.8497957222095366, \tValue of c: -0.15662392198536862\n",
            "Iteration: 69\tValue of m: 0.8497957222095366, \tValue of c: -0.15662392198536862\n",
            "Iteration: 70\tValue of m: 0.8497957222095366, \tValue of c: -0.15662392198536862\n",
            "Iteration: 71\tValue of m: 0.8497957222095366, \tValue of c: -0.15662392198536862\n",
            "Iteration: 72\tValue of m: 0.8497957222095366, \tValue of c: -0.15662392198536862\n",
            "Iteration: 73\tValue of m: 0.8497957222095366, \tValue of c: -0.15662392198536862\n",
            "Iteration: 74\tValue of m: 0.8497957222095366, \tValue of c: -0.15662392198536862\n",
            "Iteration: 75\tValue of m: 0.8497957222095366, \tValue of c: -0.15662392198536862\n",
            "Iteration: 76\tValue of m: 0.8497957222095366, \tValue of c: -0.15662392198536862\n",
            "Iteration: 77\tValue of m: 0.8497957222095366, \tValue of c: -0.15662392198536862\n",
            "Iteration: 78\tValue of m: 0.8497957222095366, \tValue of c: -0.15662392198536862\n",
            "Iteration: 79\tValue of m: 0.8497957222095366, \tValue of c: -0.15662392198536862\n",
            "Iteration: 80\tValue of m: 0.8497957222095366, \tValue of c: -0.15662392198536862\n",
            "Iteration: 81\tValue of m: 0.8497957222095366, \tValue of c: -0.15662392198536862\n",
            "Iteration: 82\tValue of m: 0.8497957222095366, \tValue of c: -0.15662392198536862\n",
            "Iteration: 83\tValue of m: 0.8497957222095366, \tValue of c: -0.15662392198536862\n",
            "Iteration: 84\tValue of m: 0.8497957222095366, \tValue of c: -0.15662392198536862\n",
            "Iteration: 85\tValue of m: 0.8497957222095366, \tValue of c: -0.15662392198536862\n",
            "Iteration: 86\tValue of m: 0.8497957222095366, \tValue of c: -0.15662392198536862\n",
            "Iteration: 87\tValue of m: 0.8497957222095366, \tValue of c: -0.15662392198536862\n",
            "Iteration: 88\tValue of m: 0.8497957222095366, \tValue of c: -0.15662392198536862\n",
            "Iteration: 89\tValue of m: 0.8497957222095366, \tValue of c: -0.15662392198536862\n",
            "Iteration: 90\tValue of m: 0.8497957222095366, \tValue of c: -0.15662392198536862\n",
            "Iteration: 91\tValue of m: 0.8497957222095366, \tValue of c: -0.15662392198536862\n",
            "Iteration: 92\tValue of m: 0.8497957222095366, \tValue of c: -0.15662392198536862\n",
            "Iteration: 93\tValue of m: 0.8497957222095366, \tValue of c: -0.15662392198536862\n",
            "Iteration: 94\tValue of m: 0.8497957222095366, \tValue of c: -0.15662392198536862\n",
            "Iteration: 95\tValue of m: 0.8497957222095366, \tValue of c: -0.15662392198536862\n",
            "Iteration: 96\tValue of m: 0.8497957222095366, \tValue of c: -0.15662392198536862\n",
            "Iteration: 97\tValue of m: 0.8497957222095366, \tValue of c: -0.15662392198536862\n",
            "Iteration: 98\tValue of m: 0.8497957222095366, \tValue of c: -0.15662392198536862\n",
            "Iteration: 99\tValue of m: 0.8497957222095366, \tValue of c: -0.15662392198536862\n",
            "Iteration: 100\tValue of m: 0.8497957222095366, \tValue of c: -0.15662392198536862\n",
            "\n",
            "The local minima occurs at: 0.8497957222095366, -0.15662392198536862\n"
          ],
          "name": "stdout"
        }
      ]
    },
    {
      "cell_type": "code",
      "metadata": {
        "id": "jS4h1fWoTQoM"
      },
      "source": [
        "import numpy as np\r\n",
        "\r\n",
        "x_train = np.array(x_train)\r\n",
        "y_train = np.array(y_train)\r\n",
        "x_test = np.array(x_test)\r\n",
        "y_test = np.array(y_test)"
      ],
      "execution_count": 11,
      "outputs": []
    },
    {
      "cell_type": "code",
      "metadata": {
        "id": "RhDYoQ2RTQoM"
      },
      "source": [
        "y_pred_train = []\n",
        "for i in x_train:\n",
        "  y_p_tr = (m * i) + c\n",
        "  y_pred_train.append(y_p_tr)\n",
        "y_pred_train = np.array(y_pred_train)"
      ],
      "execution_count": 12,
      "outputs": []
    },
    {
      "cell_type": "code",
      "metadata": {
        "id": "KeiX-iubTQoN"
      },
      "source": [
        "y_pred_test = []\n",
        "for i in x_test:\n",
        "  y_p_te = (m * i) + c\n",
        "  y_pred_test.append(y_p_te)\n",
        "y_pred_test = np.array(y_pred_test)"
      ],
      "execution_count": 13,
      "outputs": []
    },
    {
      "cell_type": "code",
      "metadata": {
        "colab": {
          "base_uri": "https://localhost:8080/"
        },
        "id": "GlAepDSRTQoN",
        "outputId": "8e593a47-1c64-4477-ad09-5249342103c3"
      },
      "source": [
        "import math\n",
        "from sklearn.metrics import mean_squared_error \n",
        "from sklearn.metrics import mean_absolute_error\n",
        "\n",
        "\n",
        "#Training Accuracies\n",
        "mse = math.sqrt(mean_squared_error(y_train, y_pred_train)) \n",
        "print('Root mean square error', mse) \n",
        "mse = (mean_squared_error(y_train, y_pred_train)) \n",
        "print('Mean square error', mse) \n",
        "mae=mean_absolute_error(y_train, y_pred_train)\n",
        "print('Mean absolute error', mae)"
      ],
      "execution_count": 14,
      "outputs": [
        {
          "output_type": "stream",
          "text": [
            "Root mean square error 0.6518990110770351\n",
            "Mean square error 0.4249723206432163\n",
            "Mean absolute error 0.43781836275406955\n"
          ],
          "name": "stdout"
        }
      ]
    },
    {
      "cell_type": "code",
      "metadata": {
        "colab": {
          "base_uri": "https://localhost:8080/"
        },
        "id": "dzL9YRDWTQoO",
        "outputId": "d0bf4f76-2038-466c-8e4f-f2421c2b35d5"
      },
      "source": [
        "#Testing Accuracies\n",
        "mse = math.sqrt(mean_squared_error(y_test, y_pred_test)) \n",
        "print('Root mean square error', mse) \n",
        "mse = (mean_squared_error(y_test, y_pred_test)) \n",
        "print('Mean square error', mse) \n",
        "mae=mean_absolute_error(y_test, y_pred_test)\n",
        "print('Mean absolute error', mae)"
      ],
      "execution_count": 15,
      "outputs": [
        {
          "output_type": "stream",
          "text": [
            "Root mean square error 0.5874494300215501\n",
            "Mean square error 0.3450968328326441\n",
            "Mean absolute error 0.4057943073140245\n"
          ],
          "name": "stdout"
        }
      ]
    },
    {
      "cell_type": "code",
      "metadata": {
        "colab": {
          "base_uri": "https://localhost:8080/"
        },
        "id": "60eGKPrPJbyy",
        "outputId": "204b97f3-e7c5-40cc-f4a5-91f1894c67f5"
      },
      "source": [
        "dec_1st = []\n",
        "dec_1st.append(df.iloc[-1, 1])\n",
        "for hour in range(24):\n",
        "  normalised_pred = (dec_1st[-1] - df.mean()) / df.std()\n",
        "  pred_load = m * normalised_pred + c\n",
        "  pred_load = (pred_load * df.std()) + df.mean()\n",
        "  dec_1st.append(pred_load)\n",
        "hour = input(\"Enter an hour(0-23) of 1st December, 2018 to predict the load\")\n",
        "print(f\"Predicted Load (kW) at {hour} hours on 1st December, 2018: {dec_1st[1 + int(hour)][0]}\")"
      ],
      "execution_count": 16,
      "outputs": [
        {
          "output_type": "stream",
          "text": [
            "Enter an hour(0-23) of 1st December, 2018 to predict the load22\n",
            "Predicted Load (kW) at 22 hours on 1st December, 2018: 4963.544803236294\n"
          ],
          "name": "stdout"
        }
      ]
    },
    {
      "cell_type": "code",
      "metadata": {
        "id": "NVswrUYVJby0"
      },
      "source": [
        ""
      ],
      "execution_count": null,
      "outputs": []
    }
  ]
}